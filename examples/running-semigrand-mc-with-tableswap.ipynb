{
 "cells": [
  {
   "cell_type": "markdown",
   "id": "9662ca07",
   "metadata": {},
   "source": [
    "Bare-bones example to run semi-grand canonical MC simulations using user-specified GC steps. Note that `Semigrandcanonicaltableswapper` is very similar to `Tableswapper` written for canonical disordering across multiple sublattices (see `running-canonical-mc-with-overlapping-sublattices.ipynb`, J. Yang and T. Chen for a tutorial for `Tableswapper`).\n",
    "\n",
    "Author: Julia Yang\n",
    "\n",
    "May 2022"
   ]
  },
  {
   "cell_type": "markdown",
   "id": "f8ece2d2",
   "metadata": {},
   "source": [
    "## 1. Load the CE, starting spinel structure, and supercell matrix for semi-grand canonical (SGC) swaps"
   ]
  },
  {
   "cell_type": "code",
   "execution_count": 1,
   "id": "03c2eeba",
   "metadata": {},
   "outputs": [],
   "source": [
    "import json\n",
    "import numpy as np\n",
    "from smol.io import load_work\n",
    "from smol.cofe.expansion import ClusterExpansion \n",
    "\n",
    "starting_spinel_file = 'data/limn2o4_spinel.json'\n",
    "\n",
    "mson = 'data/lmof_drx_tet.mson'\n",
    "\n",
    "# load the starting configuration which is a spinel structure\n",
    "from pymatgen.core.structure import *\n",
    "with open(starting_spinel_file, 'r') as f: \n",
    "    init_struct = Structure.from_dict(json.load(f))\n",
    "\n",
    "# this is the supercell shape of the spinel structure\n",
    "m = np.matrix([[2,2,-2],[-2,2,2],[2,-2,2]]) \n",
    "\n",
    "# run a small cell for now \n",
    "transformation = np.identity(3)\n",
    "supercell_matrix = m @ transformation\n",
    "\n",
    "# load CE\n",
    "work = load_work(mson)\n",
    "expansion = work['ClusterExpansion']"
   ]
  },
  {
   "cell_type": "markdown",
   "id": "f7ed6085",
   "metadata": {},
   "source": [
    "## 2. Initialize semi-grand canonical information \n",
    "\n",
    "High-level description: In running a topotactic delithiation, we need to specify the kinds of semi-grand canonical swaps expected. In this case, a single swap proposal is the removal of Li+ and oxidation of Mn, or a Li+ insertion and reduction of Mn. Specifying these swaps is done with `GC_flip_table`. We also would like Li+ to disorder across multiple sublattices, but only Li+, which is why we cannot just indicate `allow_crossover=True` since that would mobilize the Mn2+ (across tetrahedral and octahedral shared sublattices). Therefore, we must specify a more specific swap, which is the shared sublattice swap with Li+ and Vacancy, and we do that clearly in `shared_table`. Technically `allow_crossover` is still `True` which is why it's kept as input. In the example below, we do SGC swaps for 50% of the proposals, and shared Li/Vacancy canonical swaps for the other 50%.\n",
    "\n",
    "In summary, for clarity, and for ease of integration, we keep the logic within `Semigrandcanonicaltableswapper` very similar to that of `Tableswapper`. \n",
    "\n",
    "#####  Setting up `GC_flip_table`: \n",
    "\n",
    "Here we allow for the two (de)lithiation reactions with probability equal to 0.5: \n",
    "\n",
    "1. Li+ + Mn2+ <-(>) Vac + Mn3+ \n",
    "2. Li+ + Mn3+ <-(>) Vac + Mn4+ \n",
    "\n",
    "Currently as implemented, if you specify Vacancy, you must specify this as `str(Vac)`. This is converted into a smol Vacancy (DummySpecie) later by the function `make_shared_swap_table`. \n",
    "\n",
    "##### Initialize relative chemical potentials: \n",
    "\n",
    "We also need to initiate the chemical potentials for all the species. Note that it's always the relative chemical potential that matters in a SGC calculation, so these can be set arbitrarily. Just be cognizant of what you are enforcing when you scan in different chemical potentials. If you aren't seeing anything happen, you may need to scan in a different chemical potential range, or change the reference chemical potentials. "
   ]
  },
  {
   "cell_type": "code",
   "execution_count": 2,
   "id": "a1796e46",
   "metadata": {},
   "outputs": [],
   "source": [
    "# Define sgc steps \n",
    "\n",
    "GC_flip_table = {(\n",
    "            (('Li', 1), ('Mn', 2)),\n",
    "            (('Vac', 0), ('Mn', 3)))\n",
    "        : 1 / 2,\n",
    "        (\n",
    "            (('Li', 1), ('Mn', 3)),\n",
    "            (('Vac', 0), ('Mn', 4)))\n",
    "        : 1 / 2,\n",
    "        'Mn_disproportionation': 0.\n",
    "    }\n",
    "\n",
    "# Define swap table which only allowed for topotactic (de)lithiation on shared sublattices \n",
    "shared_table = {((('Li', 1), 'shared'), (('Vac', 0), 'shared')):1.0}\n",
    "\n",
    "lmof_chemical_potentials = {'Li+': 0.0, 'Vacancy': 0.0, 'Mn2+': 0.0, 'Mn3+': 0.0, 'Mn4+': 0.0, 'O2-': 0.0, 'F-': 0.0}"
   ]
  },
  {
   "cell_type": "markdown",
   "id": "f91beb9e",
   "metadata": {},
   "source": [
    "## 3. Carry out SGC calculation\n",
    "\n",
    "We set up a room-temperature SGC topotactic lithiation by scanning from low to high Li chemical potential. We enforce 50% of the swaps to be SGC steps in `GC_flip_table` and the other 50% to be canonical Li/Vacancy shared swaps. The parameter `combine_domains` is only for SGC flips and generally `False` so that picking of one site within a swap occurs within the same sublattice. You will generally want to keep this to `False`. (The reason it is still a parameter is that the concept of `combine_domains` is necessary in Mn disportionation reactions to satisfy detailed balance. Furthermore, maybe in some systems, one would want to perform SGC swaps across all possible cation sublattices.)\n",
    "\n",
    "Note this bare-bones example is missing equilibration, production, and sampling steps. "
   ]
  },
  {
   "cell_type": "code",
   "execution_count": 3,
   "id": "ddf5b056",
   "metadata": {},
   "outputs": [
    {
     "name": "stderr",
     "output_type": "stream",
     "text": [
      "/Users/jhyang/miniconda3/lib/python3.8/site-packages/smol/moca/sampler/mcusher.py:695: UserWarning: At least one species does not exist in given sublattice in list of possible flip types (list of species on sublattice is empty). Continuing, returning an empty flip\n",
      "  warnings.warn(\"At least one species does not exist in given \"\n"
     ]
    }
   ],
   "source": [
    "from smol.moca.ensemble.semigrand import SemiGrandEnsemble, make_sgc_step_table, make_shared_swap_table\n",
    "from smol.moca import Sampler \n",
    "\n",
    "ensemble = SemiGrandEnsemble.from_cluster_expansion(expansion,\n",
    "                                                    supercell_matrix,\n",
    "                                                    chemical_potentials=lmof_chemical_potentials)\n",
    "current_occupancy = ensemble.processor.occupancy_from_structure(init_struct)\n",
    "\n",
    "ROOM_TEMPERATURE = 300\n",
    "START_MU = -5\n",
    "END_MU = -3 \n",
    "STEP_MU = 0.05\n",
    "STEP_TYPE = 'Semigrandcanonicaltableswapper'\n",
    "NUMBER_OF_PROPOSALS=20 # quick mu scan parameter \n",
    "\n",
    "GC_flip_table = make_sgc_step_table(GC_flip_table)\n",
    "\n",
    "for dmu in np.arange(START_MU, END_MU, STEP_MU):\n",
    "    lmof_chemical_potentials[Species('Li', 1)] = dmu\n",
    "    ensemble._mu_table = ensemble._build_mu_table(ensemble.chemical_potentials)\n",
    "    sampler = Sampler.from_ensemble(kernel_type='Metropolis',\n",
    "                                ensemble=ensemble,\n",
    "                                temperature=ROOM_TEMPERATURE,\n",
    "                                step_type=STEP_TYPE,\n",
    "                                allow_crossover=True,\n",
    "                                GC_step_probability=0.5,\n",
    "                                swap_table=make_shared_swap_table(shared_table),\n",
    "                                gc_step_table=GC_flip_table,\n",
    "                                combine_domains=False,\n",
    "                                )\n",
    "    sampler.run(NUMBER_OF_PROPOSALS, \n",
    "               initial_occupancies=current_occupancy, \n",
    "               ignore_empty_proposals=True)\n"
   ]
  },
  {
   "cell_type": "code",
   "execution_count": 4,
   "id": "452b3b2f",
   "metadata": {},
   "outputs": [],
   "source": [
    "save_dict = {'features': sampler.samples.get_feature_vectors().tolist(),\n",
    "             'occupancies': sampler.samples.get_occupancies().tolist(),\n",
    "             'efficiency': sampler.samples.sampling_efficiency}\n",
    "#with open('semigrandcanonical_mc_overlapping_sublattices_example.json', 'w') as f: \n",
    "#    json.dump(save_dict, f)"
   ]
  }
 ],
 "metadata": {
  "kernelspec": {
   "display_name": "Python 3",
   "language": "python",
   "name": "python3"
  },
  "language_info": {
   "codemirror_mode": {
    "name": "ipython",
    "version": 3
   },
   "file_extension": ".py",
   "mimetype": "text/x-python",
   "name": "python",
   "nbconvert_exporter": "python",
   "pygments_lexer": "ipython3",
   "version": "3.8.8"
  }
 },
 "nbformat": 4,
 "nbformat_minor": 5
}
