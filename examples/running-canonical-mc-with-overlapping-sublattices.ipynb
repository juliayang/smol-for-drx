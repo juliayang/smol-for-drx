{
 "cells": [
  {
   "cell_type": "markdown",
   "id": "f2663899",
   "metadata": {},
   "source": [
    "This notebook applies to drx+tet structures such as the partially disordered spinel where Li+, Mn2+, and Vacancies occupy octahedral and tetrahedral sublattices. \n",
    "\n",
    "Authors: Julia Yang, Tina Chen\n",
    "\n",
    "Date: May 2022"
   ]
  },
  {
   "cell_type": "markdown",
   "id": "59c8c25f",
   "metadata": {},
   "source": [
    "## 1. Load all structure data"
   ]
  },
  {
   "cell_type": "code",
   "execution_count": 11,
   "id": "b8492d20",
   "metadata": {},
   "outputs": [],
   "source": [
    "import json\n",
    "import numpy as np\n",
    "\n",
    "starting_spinel_file = 'data/limn2o4_spinel.json'\n",
    "mson = 'data/lmof_drx_tet.mson'"
   ]
  },
  {
   "cell_type": "markdown",
   "id": "71e33558",
   "metadata": {},
   "source": [
    "## 2. Load a trained cluster expansion model"
   ]
  },
  {
   "cell_type": "code",
   "execution_count": 12,
   "id": "40abfa38",
   "metadata": {},
   "outputs": [
    {
     "ename": "AttributeError",
     "evalue": "The size of the give subspace 175 does not match the number of coefficients 174",
     "output_type": "error",
     "traceback": [
      "\u001b[0;31m---------------------------------------------------------------------------\u001b[0m",
      "\u001b[0;31mAttributeError\u001b[0m                            Traceback (most recent call last)",
      "\u001b[0;32m<ipython-input-12-0358e0da36ee>\u001b[0m in \u001b[0;36m<module>\u001b[0;34m\u001b[0m\n\u001b[1;32m     17\u001b[0m \u001b[0;31m#work = load_work(mson)\u001b[0m\u001b[0;34m\u001b[0m\u001b[0;34m\u001b[0m\u001b[0;34m\u001b[0m\u001b[0m\n\u001b[1;32m     18\u001b[0m \u001b[0;31m#expansion = work['ClusterExpansion']\u001b[0m\u001b[0;34m\u001b[0m\u001b[0;34m\u001b[0m\u001b[0;34m\u001b[0m\u001b[0m\n\u001b[0;32m---> 19\u001b[0;31m \u001b[0;32mwith\u001b[0m \u001b[0mopen\u001b[0m\u001b[0;34m(\u001b[0m\u001b[0mmson\u001b[0m\u001b[0;34m,\u001b[0m \u001b[0;34m'r'\u001b[0m\u001b[0;34m)\u001b[0m \u001b[0;32mas\u001b[0m \u001b[0mf\u001b[0m\u001b[0;34m:\u001b[0m \u001b[0mexpansion\u001b[0m \u001b[0;34m=\u001b[0m \u001b[0mClusterExpansion\u001b[0m\u001b[0;34m.\u001b[0m\u001b[0mfrom_dict\u001b[0m\u001b[0;34m(\u001b[0m\u001b[0mjson\u001b[0m\u001b[0;34m.\u001b[0m\u001b[0mload\u001b[0m\u001b[0;34m(\u001b[0m\u001b[0mf\u001b[0m\u001b[0;34m)\u001b[0m\u001b[0;34m)\u001b[0m\u001b[0;34m\u001b[0m\u001b[0;34m\u001b[0m\u001b[0m\n\u001b[0m",
      "\u001b[0;32m~/miniconda3/lib/python3.8/site-packages/smol/cofe/expansion.py\u001b[0m in \u001b[0;36mfrom_dict\u001b[0;34m(cls, d)\u001b[0m\n\u001b[1;32m    334\u001b[0m             \u001b[0mreg_data\u001b[0m \u001b[0;34m=\u001b[0m \u001b[0;32mNone\u001b[0m\u001b[0;34m\u001b[0m\u001b[0;34m\u001b[0m\u001b[0m\n\u001b[1;32m    335\u001b[0m \u001b[0;34m\u001b[0m\u001b[0m\n\u001b[0;32m--> 336\u001b[0;31m         ce = cls(ClusterSubspace.from_dict(d['cluster_subspace']),\n\u001b[0m\u001b[1;32m    337\u001b[0m                  \u001b[0mcoefficients\u001b[0m\u001b[0;34m=\u001b[0m\u001b[0mnp\u001b[0m\u001b[0;34m.\u001b[0m\u001b[0marray\u001b[0m\u001b[0;34m(\u001b[0m\u001b[0md\u001b[0m\u001b[0;34m[\u001b[0m\u001b[0;34m'coefs'\u001b[0m\u001b[0;34m]\u001b[0m\u001b[0;34m)\u001b[0m\u001b[0;34m,\u001b[0m\u001b[0;34m\u001b[0m\u001b[0;34m\u001b[0m\u001b[0m\n\u001b[1;32m    338\u001b[0m                  regression_data=reg_data)\n",
      "\u001b[0;32m~/miniconda3/lib/python3.8/site-packages/smol/cofe/expansion.py\u001b[0m in \u001b[0;36m__init__\u001b[0;34m(self, cluster_subspace, coefficients, regression_data)\u001b[0m\n\u001b[1;32m    141\u001b[0m \u001b[0;34m\u001b[0m\u001b[0m\n\u001b[1;32m    142\u001b[0m         \u001b[0;32mif\u001b[0m \u001b[0mlen\u001b[0m\u001b[0;34m(\u001b[0m\u001b[0mcoefficients\u001b[0m\u001b[0;34m)\u001b[0m \u001b[0;34m!=\u001b[0m \u001b[0mlen\u001b[0m\u001b[0;34m(\u001b[0m\u001b[0mcluster_subspace\u001b[0m\u001b[0;34m)\u001b[0m\u001b[0;34m:\u001b[0m\u001b[0;34m\u001b[0m\u001b[0;34m\u001b[0m\u001b[0m\n\u001b[0;32m--> 143\u001b[0;31m             raise AttributeError(\n\u001b[0m\u001b[1;32m    144\u001b[0m                 \u001b[0;34mf\"The size of the give subspace {len(cluster_subspace)} does \"\u001b[0m\u001b[0;34m\u001b[0m\u001b[0;34m\u001b[0m\u001b[0m\n\u001b[1;32m    145\u001b[0m                 f\"not match the number of coefficients {len(coefficients)}\")\n",
      "\u001b[0;31mAttributeError\u001b[0m: The size of the give subspace 175 does not match the number of coefficients 174"
     ]
    }
   ],
   "source": [
    "from smol.io import load_work\n",
    "from smol.cofe.expansion import ClusterExpansion \n",
    "\n",
    "# load the starting configuration which is a spinel structure\n",
    "from pymatgen.core.structure import *\n",
    "with open(starting_spinel_file, 'r') as f: \n",
    "    init_struct = Structure.from_dict(json.load(f))\n",
    "\n",
    "# this is the supercell shape of the spinel structure\n",
    "m = np.matrix([[2,2,-2],[-2,2,2],[2,-2,2]]) \n",
    "\n",
    "# run a small cell for now \n",
    "transformation = np.identity(3)\n",
    "supercell_matrix = m @ transformation\n",
    "\n",
    "# load CE\n",
    "#work = load_work(mson)\n",
    "#expansion = work['ClusterExpansion']\n",
    "with open(mson, 'r') as f: expansion = ClusterExpansion.from_dict(json.load(f))"
   ]
  },
  {
   "cell_type": "code",
   "execution_count": 10,
   "id": "70d00eb7",
   "metadata": {},
   "outputs": [
    {
     "name": "stdout",
     "output_type": "stream",
     "text": [
      "None\n"
     ]
    },
    {
     "ename": "AttributeError",
     "evalue": "'list' object has no attribute 'shape'",
     "output_type": "error",
     "traceback": [
      "\u001b[0;31m---------------------------------------------------------------------------\u001b[0m",
      "\u001b[0;31mAttributeError\u001b[0m                            Traceback (most recent call last)",
      "\u001b[0;32m<ipython-input-10-2ca00229fdd9>\u001b[0m in \u001b[0;36m<module>\u001b[0;34m\u001b[0m\n\u001b[1;32m      1\u001b[0m \u001b[0mprint\u001b[0m \u001b[0;34m(\u001b[0m\u001b[0mexpansion\u001b[0m\u001b[0;34m[\u001b[0m\u001b[0;34m'feature_matrix'\u001b[0m\u001b[0;34m]\u001b[0m\u001b[0;34m)\u001b[0m\u001b[0;34m\u001b[0m\u001b[0;34m\u001b[0m\u001b[0m\n\u001b[0;32m----> 2\u001b[0;31m \u001b[0mprint\u001b[0m \u001b[0;34m(\u001b[0m\u001b[0mexpansion\u001b[0m\u001b[0;34m[\u001b[0m\u001b[0;34m'coefs'\u001b[0m\u001b[0;34m]\u001b[0m\u001b[0;34m.\u001b[0m\u001b[0mshape\u001b[0m\u001b[0;34m)\u001b[0m\u001b[0;34m\u001b[0m\u001b[0;34m\u001b[0m\u001b[0m\n\u001b[0m",
      "\u001b[0;31mAttributeError\u001b[0m: 'list' object has no attribute 'shape'"
     ]
    }
   ],
   "source": [
    "print (expansion['feature_matrix'])\n",
    "print (expansion['coefs'].shape)"
   ]
  },
  {
   "cell_type": "markdown",
   "id": "abcb5dcd",
   "metadata": {},
   "source": [
    "## 3. Create the Ensemble and use in MC sampling \n",
    "\n",
    "If you want to save the occupancies for later analysis of 16c or 16d sites, you *must* save current_occupancy now, as generating this processor via `ensemble.processor` does not maintain order. In other words, the 16c and 16d sites index to different indices if you analyze the 16c or 16d sites from generating another processor later, say processor2 for clarity, via `processor2.occupancy_from_structure(init_struct)`. This is not necessarily a bug. Just be aware that one must exercise caution when comparing bit-by-bit. \n",
    "\n",
    "`Mn_swap_probability` is the probability of choosing a flip from `Mn_flip_table` which contain disproportionation reactions possible in Mn-oxides. See John Reed's thesis for more information."
   ]
  },
  {
   "cell_type": "code",
   "execution_count": 19,
   "id": "76ef1df6",
   "metadata": {},
   "outputs": [],
   "source": [
    "Mn_flip_table = {('Mn2+', 'Mn2+'): ['None'],\n",
    "                 ('Mn2+', 'Mn3+'): ['swap'],\n",
    "                 ('Mn3+', 'Mn2+'): ['swap'],\n",
    "                 ('Mn2+', 'Mn4+'): ['dispropA', 'swap'],\n",
    "                 ('Mn4+', 'Mn2+'): ['dispropB', 'swap'],\n",
    "                 ('Mn3+', 'Mn3+'): ['dispropC', 'dispropD'],\n",
    "                 ('Mn3+', 'Mn4+'): ['swap'],\n",
    "                 ('Mn4+', 'Mn3+'): ['swap'],\n",
    "                 ('Mn4+', 'Mn4+'): ['None']}"
   ]
  },
  {
   "cell_type": "code",
   "execution_count": 20,
   "id": "e70e6d9f",
   "metadata": {},
   "outputs": [
    {
     "ename": "ValueError",
     "evalue": "Step type tableswapper can not be used for sampling a <class 'smol.moca.ensemble.canonical.CanonicalEnsemble'>!",
     "output_type": "error",
     "traceback": [
      "\u001b[0;31m-----------------------------------------------------------\u001b[0m",
      "\u001b[0;31mValueError\u001b[0m                Traceback (most recent call last)",
      "\u001b[0;32m<ipython-input-20-60ab9685c11c>\u001b[0m in \u001b[0;36m<module>\u001b[0;34m\u001b[0m\n\u001b[1;32m     14\u001b[0m \u001b[0;34m\u001b[0m\u001b[0m\n\u001b[1;32m     15\u001b[0m \u001b[0;32mfor\u001b[0m \u001b[0mT\u001b[0m \u001b[0;32min\u001b[0m \u001b[0mrange\u001b[0m\u001b[0;34m(\u001b[0m\u001b[0mSTART_T\u001b[0m\u001b[0;34m,\u001b[0m \u001b[0mEND_T\u001b[0m\u001b[0;34m+\u001b[0m\u001b[0;36m1\u001b[0m\u001b[0;34m,\u001b[0m \u001b[0mSTEP_T\u001b[0m\u001b[0;34m)\u001b[0m\u001b[0;34m:\u001b[0m\u001b[0;34m\u001b[0m\u001b[0;34m\u001b[0m\u001b[0m\n\u001b[0;32m---> 16\u001b[0;31m     sampler = Sampler.from_ensemble(kernel_type='Metropolis',\n\u001b[0m\u001b[1;32m     17\u001b[0m                                     \u001b[0mensemble\u001b[0m\u001b[0;34m=\u001b[0m\u001b[0mensemble\u001b[0m\u001b[0;34m,\u001b[0m\u001b[0;34m\u001b[0m\u001b[0;34m\u001b[0m\u001b[0m\n\u001b[1;32m     18\u001b[0m                                     \u001b[0mtemperature\u001b[0m\u001b[0;34m=\u001b[0m\u001b[0mT\u001b[0m\u001b[0;34m,\u001b[0m\u001b[0;34m\u001b[0m\u001b[0;34m\u001b[0m\u001b[0m\n",
      "\u001b[0;32m~/miniconda3/lib/python3.8/site-packages/smol/moca/sampler/sampler.py\u001b[0m in \u001b[0;36mfrom_ensemble\u001b[0;34m(cls, ensemble, step_type, kernel_type, seed, nwalkers, *args, **kwargs)\u001b[0m\n\u001b[1;32m     88\u001b[0m             \u001b[0mstep_type\u001b[0m \u001b[0;34m=\u001b[0m \u001b[0mensemble\u001b[0m\u001b[0;34m.\u001b[0m\u001b[0mvalid_mcmc_steps\u001b[0m\u001b[0;34m[\u001b[0m\u001b[0;36m0\u001b[0m\u001b[0;34m]\u001b[0m\u001b[0;34m\u001b[0m\u001b[0;34m\u001b[0m\u001b[0m\n\u001b[1;32m     89\u001b[0m         \u001b[0;32melif\u001b[0m \u001b[0mstep_type\u001b[0m \u001b[0;32mnot\u001b[0m \u001b[0;32min\u001b[0m \u001b[0mensemble\u001b[0m\u001b[0;34m.\u001b[0m\u001b[0mvalid_mcmc_steps\u001b[0m\u001b[0;34m:\u001b[0m\u001b[0;34m\u001b[0m\u001b[0;34m\u001b[0m\u001b[0m\n\u001b[0;32m---> 90\u001b[0;31m             raise ValueError(f\"Step type {step_type} can not be used for \"\n\u001b[0m\u001b[1;32m     91\u001b[0m                              f\"sampling a {type(ensemble)}!\")\n\u001b[1;32m     92\u001b[0m         \u001b[0;32mif\u001b[0m \u001b[0mkernel_type\u001b[0m \u001b[0;32mis\u001b[0m \u001b[0;32mNone\u001b[0m\u001b[0;34m:\u001b[0m\u001b[0;34m\u001b[0m\u001b[0;34m\u001b[0m\u001b[0m\n",
      "\u001b[0;31mValueError\u001b[0m: Step type tableswapper can not be used for sampling a <class 'smol.moca.ensemble.canonical.CanonicalEnsemble'>!"
     ]
    }
   ],
   "source": [
    "from smol.moca import Sampler \n",
    "from smol.moca.ensemble.canonical import CanonicalEnsemble\n",
    "\n",
    "ALLOW_CROSSOVER=True\n",
    "STEP_TYPE='tableswapper'\n",
    "NUMBER_OF_PROPOSALS=20 # quick T scan parameter \n",
    "START_T = 300 \n",
    "END_T = 400 # quick T scan parameter \n",
    "STEP_T = 100\n",
    "\n",
    "#ensemble = CanonicalEnsemble.from_cluster_expansion(expansion, \n",
    "#                                                    supercell_matrix)\n",
    "current_occupancy = ensemble.processor.occupancy_from_structure(init_struct)\n",
    "\n",
    "for T in range(START_T, END_T+1, STEP_T): \n",
    "    sampler = Sampler.from_ensemble(kernel_type='Metropolis',\n",
    "                                    ensemble=ensemble,\n",
    "                                    temperature=T,\n",
    "                                    step_type=STEP_TYPE,\n",
    "                                    allow_cross_over=True,\n",
    "                                    Mn_swap_probability=0.5,\n",
    "                                    swap_table=None, \n",
    "                                    Mn_flip_table=Mn_flip_table\n",
    "                                )\n",
    "    sampler.run(NUMBER_OF_PROPOSALS,\n",
    "               initial_occupancies=current_occupancy)"
   ]
  },
  {
   "cell_type": "code",
   "execution_count": 26,
   "id": "d7001233",
   "metadata": {},
   "outputs": [
    {
     "ename": "TypeError",
     "evalue": "Can't instantiate abstract class Processor with abstract methods compute_feature_vector, compute_feature_vector_change",
     "output_type": "error",
     "traceback": [
      "\u001b[0;31m-----------------------------------------------------------\u001b[0m",
      "\u001b[0;31mTypeError\u001b[0m                 Traceback (most recent call last)",
      "\u001b[0;32m<ipython-input-26-b581ac4462b8>\u001b[0m in \u001b[0;36m<module>\u001b[0;34m\u001b[0m\n\u001b[1;32m     17\u001b[0m \u001b[0mcoef\u001b[0m\u001b[0;34m=\u001b[0m\u001b[0mnp\u001b[0m\u001b[0;34m.\u001b[0m\u001b[0mrandom\u001b[0m\u001b[0;34m.\u001b[0m\u001b[0mrand\u001b[0m\u001b[0;34m(\u001b[0m\u001b[0mlen\u001b[0m\u001b[0;34m(\u001b[0m\u001b[0mcs\u001b[0m\u001b[0;34m)\u001b[0m\u001b[0;34m)\u001b[0m\u001b[0;34m\u001b[0m\u001b[0;34m\u001b[0m\u001b[0m\n\u001b[1;32m     18\u001b[0m \u001b[0;32mfrom\u001b[0m \u001b[0msmol\u001b[0m\u001b[0;34m.\u001b[0m\u001b[0mmoca\u001b[0m\u001b[0;34m.\u001b[0m\u001b[0mprocessor\u001b[0m\u001b[0;34m.\u001b[0m\u001b[0mbase\u001b[0m \u001b[0;32mimport\u001b[0m \u001b[0mProcessor\u001b[0m\u001b[0;34m\u001b[0m\u001b[0;34m\u001b[0m\u001b[0m\n\u001b[0;32m---> 19\u001b[0;31m \u001b[0mCanonicalEnsemble\u001b[0m\u001b[0;34m(\u001b[0m\u001b[0mProcessor\u001b[0m\u001b[0;34m(\u001b[0m\u001b[0mcs\u001b[0m\u001b[0;34m,\u001b[0m \u001b[0msupercell_matrix\u001b[0m\u001b[0;34m,\u001b[0m \u001b[0mcoef\u001b[0m\u001b[0;34m)\u001b[0m\u001b[0;34m)\u001b[0m\u001b[0;34m\u001b[0m\u001b[0;34m\u001b[0m\u001b[0m\n\u001b[0m",
      "\u001b[0;31mTypeError\u001b[0m: Can't instantiate abstract class Processor with abstract methods compute_feature_vector, compute_feature_vector_change"
     ]
    }
   ],
   "source": [
    "from smol.cofe import ClusterSubspace \n",
    "import numpy as np\n",
    "supercell_matrix= np.matrix([[2,2,-2],[-2,2,2],[2,-2,2]]) \n",
    "\n",
    "prim = Structure.from_file(\"../../20181127_newPrim.cif\")\n",
    "#prim.remove_sites([0, 2])\n",
    "prim.replace_species({\"Cs\": {'Li+': 0.5}, #tet\n",
    "                      \"Rb\": {'Li+': 0.5}, #tet # this domain really matters!!\n",
    "                      \"K\": {'Li+': 0.2, 'Mn3+': 0.2, 'Mn4+':0.2},  #oct\n",
    "                      \"Cl\": {'O2-': 1.0}})\n",
    "cs = ClusterSubspace.from_cutoffs(structure=prim,\n",
    "                                 cutoffs={2:3},# 4588 ECI + Ewald\n",
    "                                 ltol = 0.15, stol = 0.2, angle_tol = 15,\n",
    "                                 supercell_size=('O2-', 'F-'),\n",
    "                                 basis='sinusoid',\n",
    "                                 orthonormal=False)\n",
    "coef=np.random.rand(len(cs))\n",
    "from smol.moca.processor.base import Processor\n",
    "CanonicalEnsemble(Processor(cs, supercell_matrix, coef))"
   ]
  },
  {
   "cell_type": "code",
   "execution_count": 27,
   "id": "23327eac",
   "metadata": {},
   "outputs": [],
   "source": [
    "returnd = ensemble.as_dict()"
   ]
  },
  {
   "cell_type": "code",
   "execution_count": 29,
   "id": "67a551fd",
   "metadata": {},
   "outputs": [
    {
     "ename": "KeyboardInterrupt",
     "evalue": "",
     "output_type": "error",
     "traceback": [
      "\u001b[0;31m-----------------------------------------------------------\u001b[0m",
      "\u001b[0;31mKeyboardInterrupt\u001b[0m         Traceback (most recent call last)",
      "\u001b[0;32m<ipython-input-29-6bbce1116514>\u001b[0m in \u001b[0;36m<module>\u001b[0;34m\u001b[0m\n\u001b[1;32m      1\u001b[0m \u001b[0;32mwith\u001b[0m \u001b[0mopen\u001b[0m\u001b[0;34m(\u001b[0m\u001b[0;34m'data/canonical_ensemble_example.json'\u001b[0m\u001b[0;34m,\u001b[0m\u001b[0;34m'w'\u001b[0m\u001b[0;34m)\u001b[0m \u001b[0;32mas\u001b[0m \u001b[0mfout\u001b[0m\u001b[0;34m:\u001b[0m\u001b[0;34m\u001b[0m\u001b[0;34m\u001b[0m\u001b[0m\n\u001b[0;32m----> 2\u001b[0;31m     \u001b[0mjson\u001b[0m\u001b[0;34m.\u001b[0m\u001b[0mdump\u001b[0m\u001b[0;34m(\u001b[0m\u001b[0mreturnd\u001b[0m\u001b[0;34m,\u001b[0m \u001b[0mfout\u001b[0m\u001b[0;34m)\u001b[0m\u001b[0;34m\u001b[0m\u001b[0;34m\u001b[0m\u001b[0m\n\u001b[0m",
      "\u001b[0;32m~/miniconda3/lib/python3.8/json/__init__.py\u001b[0m in \u001b[0;36mdump\u001b[0;34m(obj, fp, skipkeys, ensure_ascii, check_circular, allow_nan, cls, indent, separators, default, sort_keys, **kw)\u001b[0m\n\u001b[1;32m    177\u001b[0m     \u001b[0;31m# could accelerate with writelines in some versions of Python, at\u001b[0m\u001b[0;34m\u001b[0m\u001b[0;34m\u001b[0m\u001b[0;34m\u001b[0m\u001b[0m\n\u001b[1;32m    178\u001b[0m     \u001b[0;31m# a debuggability cost\u001b[0m\u001b[0;34m\u001b[0m\u001b[0;34m\u001b[0m\u001b[0;34m\u001b[0m\u001b[0m\n\u001b[0;32m--> 179\u001b[0;31m     \u001b[0;32mfor\u001b[0m \u001b[0mchunk\u001b[0m \u001b[0;32min\u001b[0m \u001b[0miterable\u001b[0m\u001b[0;34m:\u001b[0m\u001b[0;34m\u001b[0m\u001b[0;34m\u001b[0m\u001b[0m\n\u001b[0m\u001b[1;32m    180\u001b[0m         \u001b[0mfp\u001b[0m\u001b[0;34m.\u001b[0m\u001b[0mwrite\u001b[0m\u001b[0;34m(\u001b[0m\u001b[0mchunk\u001b[0m\u001b[0;34m)\u001b[0m\u001b[0;34m\u001b[0m\u001b[0;34m\u001b[0m\u001b[0m\n\u001b[1;32m    181\u001b[0m \u001b[0;34m\u001b[0m\u001b[0m\n",
      "\u001b[0;31mKeyboardInterrupt\u001b[0m: "
     ]
    }
   ],
   "source": [
    "with open('data/canonical_ensemble_example.json','w') as fout:\n",
    "    json.dump(returnd, fout)"
   ]
  },
  {
   "cell_type": "code",
   "execution_count": null,
   "id": "1ee7a7fd",
   "metadata": {},
   "outputs": [],
   "source": []
  }
 ],
 "metadata": {
  "kernelspec": {
   "display_name": "Python 3",
   "language": "python",
   "name": "python3"
  },
  "language_info": {
   "codemirror_mode": {
    "name": "ipython",
    "version": 3
   },
   "file_extension": ".py",
   "mimetype": "text/x-python",
   "name": "python",
   "nbconvert_exporter": "python",
   "pygments_lexer": "ipython3",
   "version": "3.8.8"
  }
 },
 "nbformat": 4,
 "nbformat_minor": 5
}
