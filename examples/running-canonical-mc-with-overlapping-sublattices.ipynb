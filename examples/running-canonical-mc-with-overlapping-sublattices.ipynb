{
 "cells": [
  {
   "cell_type": "markdown",
   "id": "8e016583",
   "metadata": {},
   "source": [
    "This notebook applies to drx+tet structures such as the partially disordered spinel where Li+, Mn2+, and Vacancies occupy octahedral and tetrahedral sublattices. On the octahedral sublattice there are Li+, Mn2+, Mn3+, Mn4+, and Vacancies. The anion sublattice contains only oxygen. \n",
    "\n",
    "Note that canonical MC with overlapping sublattices was written primarily with Mn disordering in mind. It has been tested for other systems (e.g. Z. Jadidi et al., in preparation, (2022)) but not widely. As a result, please use with care. \n",
    "\n",
    "Authors: Julia Yang, Tina Chen\n",
    "\n",
    "Date: May 2022"
   ]
  },
  {
   "cell_type": "markdown",
   "id": "f4d2058b",
   "metadata": {},
   "source": [
    "## 1. Initialize necessary data (starting structure and cluster expansion model)"
   ]
  },
  {
   "cell_type": "code",
   "execution_count": 1,
   "id": "91a55f9c",
   "metadata": {},
   "outputs": [],
   "source": [
    "import json\n",
    "import numpy as np\n",
    "from smol.io import load_work\n",
    "from smol.cofe.expansion import ClusterExpansion \n",
    "\n",
    "starting_spinel_file = 'data/limn2o4_spinel.json'\n",
    "mson = 'data/lmof_drx_tet.mson'\n",
    "\n",
    "# load the starting configuration which is a spinel structure\n",
    "from pymatgen.core.structure import *\n",
    "with open(starting_spinel_file, 'r') as f: \n",
    "    init_struct = Structure.from_dict(json.load(f))\n",
    "\n",
    "# this is the supercell shape of the spinel structure\n",
    "m = np.matrix([[2,2,-2],[-2,2,2],[2,-2,2]]) \n",
    "\n",
    "# run a small cell for now \n",
    "transformation = np.identity(3)\n",
    "supercell_matrix = m @ transformation\n",
    "\n",
    "# load CE\n",
    "work = load_work(mson)\n",
    "expansion = work['ClusterExpansion']"
   ]
  },
  {
   "cell_type": "markdown",
   "id": "b9ac7d76",
   "metadata": {},
   "source": [
    "## 2. Create the Ensemble and use in MC sampling \n",
    "\n",
    "If you want to save the occupancies for later analysis of 16c or 16d sites, you *must* save current_occupancy now, as generating this processor via `ensemble.processor` does not maintain bit order. In other words, the 16c and 16d sites index to different indices in `occupancy` if you analyze the 16c or 16d sites from generating another new processor later, say processor2 for clarity, via `processor2.occupancy_from_structure(init_struct)`. This is not necessarily a bug. Just be aware that one must exercise caution when comparing bit-by-bit. \n",
    "\n",
    "`Mn_swap_probability` is the probability of choosing a flip from `Mn_flip_table` which contain disproportionation reactions possible in Mn-oxides. See John Reed's thesis for more information."
   ]
  },
  {
   "cell_type": "code",
   "execution_count": 2,
   "id": "9b2bc7c8",
   "metadata": {},
   "outputs": [],
   "source": [
    "Mn_flip_table = {('Mn2+', 'Mn2+'): ['None'],\n",
    "                 ('Mn2+', 'Mn3+'): ['swap'],\n",
    "                 ('Mn3+', 'Mn2+'): ['swap'],\n",
    "                 ('Mn2+', 'Mn4+'): ['dispropA', 'swap'],\n",
    "                 ('Mn4+', 'Mn2+'): ['dispropB', 'swap'],\n",
    "                 ('Mn3+', 'Mn3+'): ['dispropC', 'dispropD'],\n",
    "                 ('Mn3+', 'Mn4+'): ['swap'],\n",
    "                 ('Mn4+', 'Mn3+'): ['swap'],\n",
    "                 ('Mn4+', 'Mn4+'): ['None']}"
   ]
  },
  {
   "cell_type": "code",
   "execution_count": 3,
   "id": "17bcb943",
   "metadata": {},
   "outputs": [],
   "source": [
    "from smol.moca import Sampler \n",
    "from smol.moca.ensemble.canonical import CanonicalEnsemble\n",
    "\n",
    "ALLOW_CROSSOVER=True\n",
    "STEP_TYPE='tableswapper'\n",
    "NUMBER_OF_PROPOSALS=20 # quick T scan parameter \n",
    "START_T = 300 \n",
    "END_T = 400 # quick T scan parameter \n",
    "STEP_T = 100\n",
    "\n",
    "ensemble = CanonicalEnsemble.from_cluster_expansion(expansion, \n",
    "                                                    supercell_matrix)\n",
    "\n",
    "current_occupancy = ensemble.processor.occupancy_from_structure(init_struct)\n",
    "\n",
    "for T in range(START_T, END_T+1, STEP_T): \n",
    "    sampler = Sampler.from_ensemble(kernel_type='Metropolis',\n",
    "                                    ensemble=ensemble,\n",
    "                                    temperature=T,\n",
    "                                    step_type=STEP_TYPE,\n",
    "                                    allow_crossover=True,\n",
    "                                    Mn_swap_probability=0.5,\n",
    "                                    swap_table=None, \n",
    "                                    Mn_flip_table=Mn_flip_table,\n",
    "                                    run_initial_step=False,\n",
    "                                )\n",
    "    sampler.run(NUMBER_OF_PROPOSALS,\n",
    "               initial_occupancies=current_occupancy)\n",
    "\n"
   ]
  },
  {
   "cell_type": "markdown",
   "id": "88e99f91",
   "metadata": {},
   "source": [
    "## 4. Save the samples for future analysis"
   ]
  },
  {
   "cell_type": "code",
   "execution_count": 4,
   "id": "e1fc134a",
   "metadata": {},
   "outputs": [],
   "source": [
    "save_dict = {'features': sampler.samples.get_feature_vectors().tolist(),\n",
    "             'occupancies': sampler.samples.get_occupancies().tolist(),\n",
    "             'efficiency': sampler.samples.sampling_efficiency}\n",
    "#with open('canonical_mc_overlapping_sublattices_example.json', 'w') as f: \n",
    "#    json.dump(save_dict, f)"
   ]
  }
 ],
 "metadata": {
  "kernelspec": {
   "display_name": "Python 3",
   "language": "python",
   "name": "python3"
  },
  "language_info": {
   "codemirror_mode": {
    "name": "ipython",
    "version": 3
   },
   "file_extension": ".py",
   "mimetype": "text/x-python",
   "name": "python",
   "nbconvert_exporter": "python",
   "pygments_lexer": "ipython3",
   "version": "3.8.8"
  }
 },
 "nbformat": 4,
 "nbformat_minor": 5
}
